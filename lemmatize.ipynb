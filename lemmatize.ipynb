{
 "cells": [
  {
   "cell_type": "code",
   "execution_count": 12,
   "id": "45d1be72-78be-40fc-b695-ffb96d5da44c",
   "metadata": {},
   "outputs": [
    {
     "name": "stderr",
     "output_type": "stream",
     "text": [
      "[nltk_data] Downloading package wordnet to C:\\Users\\Elif\n",
      "[nltk_data]     Koyuncu\\AppData\\Roaming\\nltk_data...\n",
      "[nltk_data]   Package wordnet is already up-to-date!\n"
     ]
    },
    {
     "name": "stdout",
     "output_type": "stream",
     "text": [
      "                                    temizlenmis_cümleler  \\\n",
      "0      [['look', 'good', 'stick', 'good'], ['like', '...   \n",
      "1      [['stickers', 'work', 'like', 'review', 'says'...   \n",
      "2      [['awesome', 'make', 'phone', 'look', 'stylish...   \n",
      "3      [['item', 'arrived', 'great', 'time', 'perfect...   \n",
      "4      [['awesome'], ['stays', 'looks', 'great'], ['u...   \n",
      "...                                                  ...   \n",
      "49995  [['sceptical', 'batteries', 'low', 'cost', 'bo...   \n",
      "49996  [['batteries', 'great', 'replacements', 'two',...   \n",
      "49997  [['works'], ['thunderbolt', 'eats', 'battery',...   \n",
      "49998  [['batteries', 'held', 'year'], ['thunderbolt'...   \n",
      "49999  [['htc', 'thunderbolt', 'almost', 'years', 'or...   \n",
      "\n",
      "                                      lemmatize_cümleler  \n",
      "0      [[look, good, stick, good], [like, rounded, sh...  \n",
      "1      [[sticker, work, like, review, say], [stick, g...  \n",
      "2      [[awesome, make, phone, look, stylish], [used,...  \n",
      "3      [[item, arrived, great, time, perfect, conditi...  \n",
      "4      [[awesome], [stay, look, great], [used, multip...  \n",
      "...                                                  ...  \n",
      "49995  [[sceptical, battery, low, cost, bought, anywa...  \n",
      "49996  [[battery, great, replacement, two, separate, ...  \n",
      "49997  [[work], [thunderbolt, eats, battery, life, li...  \n",
      "49998  [[battery, held, year], [thunderbolt, still, s...  \n",
      "49999  [[htc, thunderbolt, almost, year, original, ba...  \n",
      "\n",
      "[50000 rows x 2 columns]\n"
     ]
    }
   ],
   "source": [
    "import pandas as pd\n",
    "import nltk\n",
    "from nltk.stem import WordNetLemmatizer\n",
    "nltk.download('wordnet')\n",
    "\n",
    "lemmatizer=WordNetLemmatizer()\n",
    "dosya_yolu=pd.read_csv(\"temizlenmis_cümleler.csv\")\n",
    "\n",
    "def lemmatize_et(cumleler):\n",
    "    sonuc = []\n",
    "    for cumle in eval(str(cumleler)):\n",
    "        lemmatize_edilmis = [lemmatizer.lemmatize(kelime) for kelime in cumle]\n",
    "        sonuc.append(lemmatize_edilmis)\n",
    "    return sonuc\n",
    "\n",
    "dosya_yolu['lemmatize_cümleler'] = dosya_yolu['temizlenmis_cümleler'].apply(lemmatize_et)\n",
    "print(dosya_yolu[['temizlenmis_cümleler','lemmatize_cümleler']])\n",
    "dosya_yolu.to_csv('lemmatize_edilmis_yorumlar.csv')"
   ]
  },
  {
   "cell_type": "code",
   "execution_count": null,
   "id": "7ba8c2e8-1fe6-4c6a-a10e-a64eff2e9c5f",
   "metadata": {},
   "outputs": [],
   "source": []
  }
 ],
 "metadata": {
  "kernelspec": {
   "display_name": "Python [conda env:base] *",
   "language": "python",
   "name": "conda-base-py"
  },
  "language_info": {
   "codemirror_mode": {
    "name": "ipython",
    "version": 3
   },
   "file_extension": ".py",
   "mimetype": "text/x-python",
   "name": "python",
   "nbconvert_exporter": "python",
   "pygments_lexer": "ipython3",
   "version": "3.12.7"
  }
 },
 "nbformat": 4,
 "nbformat_minor": 5
}
