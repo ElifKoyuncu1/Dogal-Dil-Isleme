{
 "cells": [
  {
   "cell_type": "code",
   "execution_count": 4,
   "id": "c79b36bd-a6b0-4fb7-939b-bae1273f18af",
   "metadata": {},
   "outputs": [
    {
     "name": "stderr",
     "output_type": "stream",
     "text": [
      "[nltk_data] Downloading package punkt to C:\\Users\\Elif\n",
      "[nltk_data]     Koyuncu\\AppData\\Roaming\\nltk_data...\n",
      "[nltk_data]   Package punkt is already up-to-date!\n"
     ]
    }
   ],
   "source": [
    "import pandas as pd\n",
    "import nltk\n",
    "nltk.download('punkt')\n",
    "from nltk.tokenize import word_tokenize"
   ]
  },
  {
   "cell_type": "code",
   "execution_count": 6,
   "id": "9c363a4d-9553-4249-9610-647057737430",
   "metadata": {},
   "outputs": [
    {
     "name": "stdout",
     "output_type": "stream",
     "text": [
      "                                                cümleler  \\\n",
      "0      ['They look good and stick good!', \"I just don...   \n",
      "1      ['These stickers work like the review says the...   \n",
      "2      ['These are awesome and make my phone look so ...   \n",
      "3      ['Item arrived in great time and was in perfec...   \n",
      "4      ['awesome!', 'stays on, and looks great.', 'ca...   \n",
      "...                                                  ...   \n",
      "49995  ['I was sceptical about these batteries becaus...   \n",
      "49996  [\"These batteries have been great replacements...   \n",
      "49997  ['It works.', 'The thunderbolt eats battery li...   \n",
      "49998  ['These batteries have held up for over a year...   \n",
      "49999  [\"I've had my HTC Thunderbolt for almost 2 yea...   \n",
      "\n",
      "                                               kelimeler  \n",
      "0      [[They, look, good, and, stick, good, !], [I, ...  \n",
      "1      [[These, stickers, work, like, the, review, sa...  \n",
      "2      [[These, are, awesome, and, make, my, phone, l...  \n",
      "3      [[Item, arrived, in, great, time, and, was, in...  \n",
      "4      [[awesome, !], [stays, on, ,, and, looks, grea...  \n",
      "...                                                  ...  \n",
      "49995  [[I, was, sceptical, about, these, batteries, ...  \n",
      "49996  [[These, batteries, have, been, great, replace...  \n",
      "49997  [[It, works, .], [The, thunderbolt, eats, batt...  \n",
      "49998  [[These, batteries, have, held, up, for, over,...  \n",
      "49999  [[I, 've, had, my, HTC, Thunderbolt, for, almo...  \n",
      "\n",
      "[50000 rows x 2 columns]\n"
     ]
    }
   ],
   "source": [
    "dosya_yolu=pd.read_csv('cumlelere_ayrilmis_yorumlar.csv')\n",
    "dosya_yolu['kelimeler'] = dosya_yolu['cümleler'].apply(\n",
    "    lambda cümle_listesi: [word_tokenize(cümle) for cümle in eval(str(cümle_listesi))])\n",
    "print(dosya_yolu[['cümleler', 'kelimeler']])\n",
    "dosya_yolu.to_csv('cümle_ve_kelimelere_ayrilmis_yorumlar.csv')"
   ]
  },
  {
   "cell_type": "code",
   "execution_count": null,
   "id": "02944783-8655-4f14-8417-5808dc51dd21",
   "metadata": {},
   "outputs": [],
   "source": []
  }
 ],
 "metadata": {
  "kernelspec": {
   "display_name": "Python [conda env:base] *",
   "language": "python",
   "name": "conda-base-py"
  },
  "language_info": {
   "codemirror_mode": {
    "name": "ipython",
    "version": 3
   },
   "file_extension": ".py",
   "mimetype": "text/x-python",
   "name": "python",
   "nbconvert_exporter": "python",
   "pygments_lexer": "ipython3",
   "version": "3.12.7"
  }
 },
 "nbformat": 4,
 "nbformat_minor": 5
}
