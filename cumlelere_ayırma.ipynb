{
 "cells": [
  {
   "cell_type": "code",
   "execution_count": 2,
   "id": "5bf4868a-d9e8-4da4-8b5a-fc29d7f47f6c",
   "metadata": {},
   "outputs": [
    {
     "name": "stderr",
     "output_type": "stream",
     "text": [
      "[nltk_data] Downloading package punkt to C:\\Users\\Elif\n",
      "[nltk_data]     Koyuncu\\AppData\\Roaming\\nltk_data...\n",
      "[nltk_data]   Package punkt is already up-to-date!\n"
     ]
    },
    {
     "name": "stdout",
     "output_type": "stream",
     "text": [
      "                                              reviewText  \\\n",
      "0      They look good and stick good! I just don't li...   \n",
      "1      These stickers work like the review says they ...   \n",
      "2      These are awesome and make my phone look so st...   \n",
      "3      Item arrived in great time and was in perfect ...   \n",
      "4      awesome! stays on, and looks great. can be use...   \n",
      "...                                                  ...   \n",
      "49995  I was sceptical about these batteries because ...   \n",
      "49996  These batteries have been great replacements i...   \n",
      "49997  It works. The thunderbolt eats battery life li...   \n",
      "49998  These batteries have held up for over a year n...   \n",
      "49999  I've had my HTC Thunderbolt for almost 2 years...   \n",
      "\n",
      "                                                cümleler  \n",
      "0      [They look good and stick good!, I just don't ...  \n",
      "1      [These stickers work like the review says they...  \n",
      "2      [These are awesome and make my phone look so s...  \n",
      "3      [Item arrived in great time and was in perfect...  \n",
      "4      [awesome!, stays on, and looks great., can be ...  \n",
      "...                                                  ...  \n",
      "49995  [I was sceptical about these batteries because...  \n",
      "49996  [These batteries have been great replacements ...  \n",
      "49997  [It works., The thunderbolt eats battery life ...  \n",
      "49998  [These batteries have held up for over a year ...  \n",
      "49999  [I've had my HTC Thunderbolt for almost 2 year...  \n",
      "\n",
      "[50000 rows x 2 columns]\n"
     ]
    }
   ],
   "source": [
    "import pandas as pd\n",
    "import nltk\n",
    "nltk.download('punkt')\n",
    "from nltk.tokenize import sent_tokenize\n",
    "\n",
    "dosya_yolu=pd.read_csv('amazon_yorumları.csv')\n",
    "dosya_yolu['cümleler']=dosya_yolu['reviewText'].apply(lambda x: sent_tokenize(str(x)))\n",
    "\n",
    "print(dosya_yolu[['reviewText', 'cümleler']])\n",
    "\n",
    "dosya_yolu.to_csv('cumlelere_ayrilmis_yorumlar.csv')\n",
    "\n"
   ]
  },
  {
   "cell_type": "code",
   "execution_count": null,
   "id": "a7dc5c16-3bb0-4d3f-bc46-d40816c37e75",
   "metadata": {},
   "outputs": [],
   "source": []
  }
 ],
 "metadata": {
  "kernelspec": {
   "display_name": "Python [conda env:base] *",
   "language": "python",
   "name": "conda-base-py"
  },
  "language_info": {
   "codemirror_mode": {
    "name": "ipython",
    "version": 3
   },
   "file_extension": ".py",
   "mimetype": "text/x-python",
   "name": "python",
   "nbconvert_exporter": "python",
   "pygments_lexer": "ipython3",
   "version": "3.12.7"
  }
 },
 "nbformat": 4,
 "nbformat_minor": 5
}
