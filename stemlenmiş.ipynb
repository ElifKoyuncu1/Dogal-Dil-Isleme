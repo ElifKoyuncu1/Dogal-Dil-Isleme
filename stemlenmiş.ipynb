{
 "cells": [
  {
   "cell_type": "code",
   "execution_count": 2,
   "id": "8d27f72c-5a46-4e01-b950-1f627ddd5440",
   "metadata": {},
   "outputs": [
    {
     "name": "stderr",
     "output_type": "stream",
     "text": [
      "[nltk_data] Downloading package punkt to C:\\Users\\Elif\n",
      "[nltk_data]     Koyuncu\\AppData\\Roaming\\nltk_data...\n",
      "[nltk_data]   Package punkt is already up-to-date!\n"
     ]
    },
    {
     "name": "stdout",
     "output_type": "stream",
     "text": [
      "                                    temizlenmis_cümleler  \\\n",
      "0      [['look', 'good', 'stick', 'good'], ['like', '...   \n",
      "1      [['stickers', 'work', 'like', 'review', 'says'...   \n",
      "2      [['awesome', 'make', 'phone', 'look', 'stylish...   \n",
      "3      [['item', 'arrived', 'great', 'time', 'perfect...   \n",
      "4      [['awesome'], ['stays', 'looks', 'great'], ['u...   \n",
      "...                                                  ...   \n",
      "49995  [['sceptical', 'batteries', 'low', 'cost', 'bo...   \n",
      "49996  [['batteries', 'great', 'replacements', 'two',...   \n",
      "49997  [['works'], ['thunderbolt', 'eats', 'battery',...   \n",
      "49998  [['batteries', 'held', 'year'], ['thunderbolt'...   \n",
      "49999  [['htc', 'thunderbolt', 'almost', 'years', 'or...   \n",
      "\n",
      "                                     stemlenmis_cümleler  \n",
      "0      [[look, good, stick, good], [like, round, shap...  \n",
      "1      [[sticker, work, like, review, say], [stick, g...  \n",
      "2      [[awesom, make, phone, look, stylish], [use, o...  \n",
      "3      [[item, arriv, great, time, perfect, condit], ...  \n",
      "4      [[awesom], [stay, look, great], [use, multipl,...  \n",
      "...                                                  ...  \n",
      "49995  [[sceptic, batteri, low, cost, bought, anyway]...  \n",
      "49996  [[batteri, great, replac, two, separ, mytouch]...  \n",
      "49997  [[work], [thunderbolt, eat, batteri, life, lik...  \n",
      "49998  [[batteri, held, year], [thunderbolt, still, s...  \n",
      "49999  [[htc, thunderbolt, almost, year, origin, batt...  \n",
      "\n",
      "[50000 rows x 2 columns]\n"
     ]
    }
   ],
   "source": [
    "import pandas as pd\n",
    "import nltk\n",
    "from nltk.stem import PorterStemmer\n",
    "nltk.download('punkt')\n",
    "\n",
    "stemmer=PorterStemmer()\n",
    "\n",
    "dosya_yolu=pd.read_csv(\"temizlenmis_cümleler.csv\")\n",
    "\n",
    "def stemle(cumleler):\n",
    "    sonuc = []\n",
    "    for cumle in eval(str(cumleler)):\n",
    "        stemlenmis = [stemmer.stem(kelime) for kelime in cumle]\n",
    "        sonuc.append(stemlenmis)\n",
    "    return sonuc\n",
    "\n",
    "dosya_yolu['stemlenmis_cümleler'] = dosya_yolu['temizlenmis_cümleler'].apply(stemle)\n",
    "\n",
    "print(dosya_yolu[['temizlenmis_cümleler', 'stemlenmis_cümleler']])\n",
    "dosya_yolu.to_csv('stemlenmis_yorumlar.csv')"
   ]
  },
  {
   "cell_type": "code",
   "execution_count": null,
   "id": "d8952236-742d-4d19-96f4-09665bf8f1ec",
   "metadata": {},
   "outputs": [],
   "source": []
  }
 ],
 "metadata": {
  "kernelspec": {
   "display_name": "Python [conda env:base] *",
   "language": "python",
   "name": "conda-base-py"
  },
  "language_info": {
   "codemirror_mode": {
    "name": "ipython",
    "version": 3
   },
   "file_extension": ".py",
   "mimetype": "text/x-python",
   "name": "python",
   "nbconvert_exporter": "python",
   "pygments_lexer": "ipython3",
   "version": "3.12.7"
  }
 },
 "nbformat": 4,
 "nbformat_minor": 5
}
