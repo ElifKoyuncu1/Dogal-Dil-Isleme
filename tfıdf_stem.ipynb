{
 "cells": [
  {
   "cell_type": "code",
   "execution_count": 2,
   "id": "52374537-179f-4637-b44e-6a18952fffea",
   "metadata": {},
   "outputs": [
    {
     "name": "stdout",
     "output_type": "stream",
     "text": [
      "Stem edilmiş cümleler için TF-IDF hesaplandı ve dosyaya kaydedildi.\n",
      "\n",
      "--- TF-IDF Matrisi İlk 5 Satır ---\n",
      "   abil  abl  absolut   ac  accept  access  accessori  accident  across  \\\n",
      "0   0.0  0.0      0.0  0.0     0.0     0.0        0.0       0.0     0.0   \n",
      "1   0.0  0.0      0.0  0.0     0.0     0.0        0.0       0.0     0.0   \n",
      "2   0.0  0.0      0.0  0.0     0.0     0.0        0.0       0.0     0.0   \n",
      "3   0.0  0.0      0.0  0.0     0.0     0.0        0.0       0.0     0.0   \n",
      "4   0.0  0.0      0.0  0.0     0.0     0.0        0.0       0.0     0.0   \n",
      "\n",
      "   activ  ...  wors  worth     would  wrap  write  wrong   ye      year  yet  \\\n",
      "0    0.0  ...   0.0    0.0  0.000000   0.0    0.0    0.0  0.0  0.000000  0.0   \n",
      "1    0.0  ...   0.0    0.0  0.000000   0.0    0.0    0.0  0.0  0.000000  0.0   \n",
      "2    0.0  ...   0.0    0.0  0.000000   0.0    0.0    0.0  0.0  0.540989  0.0   \n",
      "3    0.0  ...   0.0    0.0  0.117744   0.0    0.0    0.0  0.0  0.000000  0.0   \n",
      "4    0.0  ...   0.0    0.0  0.000000   0.0    0.0    0.0  0.0  0.000000  0.0   \n",
      "\n",
      "   zagg  \n",
      "0   0.0  \n",
      "1   0.0  \n",
      "2   0.0  \n",
      "3   0.0  \n",
      "4   0.0  \n",
      "\n",
      "[5 rows x 1000 columns]\n"
     ]
    }
   ],
   "source": [
    "import pandas as pd\n",
    "from sklearn.feature_extraction.text import TfidfVectorizer\n",
    "\n",
    "df = pd.read_csv(\"stemlenmis_yorumlar.csv\")\n",
    "\n",
    "def temizle_ve_duzleştir(x):\n",
    "    try:\n",
    "        liste = eval(str(x))\n",
    "        if all(isinstance(i, list) for i in liste):\n",
    "            return [item for alt in liste for item in alt]\n",
    "        return liste\n",
    "    except:\n",
    "        return []\n",
    "\n",
    "token_liste = df[\"stemlenmis_cümleler\"].apply(temizle_ve_duzleştir)\n",
    "\n",
    "stemmed_texts = [' '.join(tokens) for tokens in token_liste]\n",
    "\n",
    "tfidf = TfidfVectorizer(max_features=1000)\n",
    "tfidf_matrix = tfidf.fit_transform(stemmed_texts)\n",
    "tfidf_df = pd.DataFrame(tfidf_matrix.toarray(), columns=tfidf.get_feature_names_out())\n",
    "\n",
    "tfidf_df.to_csv(\"tfidf_stemmed_yorumlar.csv\", index=False)\n",
    "print(\"Stem edilmiş cümleler için TF-IDF hesaplandı ve dosyaya kaydedildi.\")\n",
    "print(\"\\n--- TF-IDF Matrisi İlk 5 Satır ---\")\n",
    "print(tfidf_df.head())\n",
    "\n"
   ]
  },
  {
   "cell_type": "code",
   "execution_count": null,
   "id": "4b113a0b-abed-42e8-855d-55124868a4a1",
   "metadata": {},
   "outputs": [],
   "source": []
  }
 ],
 "metadata": {
  "kernelspec": {
   "display_name": "Python [conda env:base] *",
   "language": "python",
   "name": "conda-base-py"
  },
  "language_info": {
   "codemirror_mode": {
    "name": "ipython",
    "version": 3
   },
   "file_extension": ".py",
   "mimetype": "text/x-python",
   "name": "python",
   "nbconvert_exporter": "python",
   "pygments_lexer": "ipython3",
   "version": "3.12.7"
  }
 },
 "nbformat": 4,
 "nbformat_minor": 5
}
