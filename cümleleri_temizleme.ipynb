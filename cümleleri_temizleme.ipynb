{
 "cells": [
  {
   "cell_type": "code",
   "execution_count": 2,
   "id": "d6d617ee-f891-44cd-87ef-8e3edd63859b",
   "metadata": {},
   "outputs": [],
   "source": [
    "import pandas as pd\n",
    "import nltk\n",
    "from nltk.corpus import stopwords\n",
    "from nltk.tokenize import word_tokenize"
   ]
  },
  {
   "cell_type": "code",
   "execution_count": 4,
   "id": "9e660e88-01fc-4484-b0a1-93c3facb54a7",
   "metadata": {},
   "outputs": [
    {
     "name": "stderr",
     "output_type": "stream",
     "text": [
      "[nltk_data] Downloading package punkt to C:\\Users\\Elif\n",
      "[nltk_data]     Koyuncu\\AppData\\Roaming\\nltk_data...\n",
      "[nltk_data]   Package punkt is already up-to-date!\n",
      "[nltk_data] Downloading package stopwords to C:\\Users\\Elif\n",
      "[nltk_data]     Koyuncu\\AppData\\Roaming\\nltk_data...\n",
      "[nltk_data]   Package stopwords is already up-to-date!\n"
     ]
    },
    {
     "data": {
      "text/plain": [
       "True"
      ]
     },
     "execution_count": 4,
     "metadata": {},
     "output_type": "execute_result"
    }
   ],
   "source": [
    "nltk.download('punkt')\n",
    "nltk.download('stopwords')"
   ]
  },
  {
   "cell_type": "code",
   "execution_count": 8,
   "id": "38cd0e3b-3650-449d-97a1-95e9f8604318",
   "metadata": {},
   "outputs": [
    {
     "name": "stderr",
     "output_type": "stream",
     "text": [
      "[nltk_data] Downloading package punkt to C:\\Users\\Elif\n",
      "[nltk_data]     Koyuncu\\AppData\\Roaming\\nltk_data...\n",
      "[nltk_data]   Package punkt is already up-to-date!\n",
      "[nltk_data] Downloading package stopwords to C:\\Users\\Elif\n",
      "[nltk_data]     Koyuncu\\AppData\\Roaming\\nltk_data...\n",
      "[nltk_data]   Package stopwords is already up-to-date!\n"
     ]
    },
    {
     "name": "stdout",
     "output_type": "stream",
     "text": [
      "                                            cümleler  \\\n",
      "0  ['They look good and stick good!', \"I just don...   \n",
      "1  ['These stickers work like the review says the...   \n",
      "2  ['These are awesome and make my phone look so ...   \n",
      "3  ['Item arrived in great time and was in perfec...   \n",
      "4  ['awesome!', 'stays on, and looks great.', 'ca...   \n",
      "\n",
      "                                temizlenmis_cümleler  \n",
      "0  [[look, good, stick, good], [like, rounded, sh...  \n",
      "1  [[stickers, work, like, review, says], [stick,...  \n",
      "2  [[awesome, make, phone, look, stylish], [used,...  \n",
      "3  [[item, arrived, great, time, perfect, conditi...  \n",
      "4  [[awesome], [stays, looks, great], [used, mult...  \n"
     ]
    }
   ],
   "source": [
    "import pandas as pd\n",
    "import nltk\n",
    "import string\n",
    "from nltk.corpus import stopwords\n",
    "from nltk.tokenize import word_tokenize\n",
    "\n",
    "nltk.download('punkt')\n",
    "nltk.download('stopwords')\n",
    "\n",
    "stop_words = set(stopwords.words('english'))\n",
    "punctuations = set(string.punctuation)\n",
    "\n",
    "dosya_yolu= pd.read_csv('cümle_ve_kelimelere_ayrilmis_yorumlar.csv')\n",
    "\n",
    "\n",
    "def temizle_cumleler(cumle_listesi):\n",
    "    temiz_cumleler = []\n",
    "    for cumle in eval(str(cumle_listesi)):\n",
    "        tokens = word_tokenize(cumle.lower())\n",
    "        temiz = [\n",
    "            ''.join(ch for ch in token if ch not in punctuations)\n",
    "            for token in tokens\n",
    "            if token.isalpha() and token not in stop_words\n",
    "        ]\n",
    "        temiz_cumleler.append([kelime for kelime in temiz if kelime])\n",
    "    return temiz_cumleler\n",
    "\n",
    "dosya_yolu['temizlenmis_cümleler'] = dosya_yolu['cümleler'].apply(temizle_cumleler)\n",
    "\n",
    "\n",
    "print(dosya_yolu[['cümleler', 'temizlenmis_cümleler']].head())\n",
    "dosya_yolu.to_csv('temizlenmis_cümleler.csv', index=False)\n"
   ]
  },
  {
   "cell_type": "code",
   "execution_count": null,
   "id": "1b4faeb2-a0cb-4a8d-8bd2-ec2113ed48af",
   "metadata": {},
   "outputs": [],
   "source": []
  }
 ],
 "metadata": {
  "kernelspec": {
   "display_name": "Python [conda env:base] *",
   "language": "python",
   "name": "conda-base-py"
  },
  "language_info": {
   "codemirror_mode": {
    "name": "ipython",
    "version": 3
   },
   "file_extension": ".py",
   "mimetype": "text/x-python",
   "name": "python",
   "nbconvert_exporter": "python",
   "pygments_lexer": "ipython3",
   "version": "3.12.7"
  }
 },
 "nbformat": 4,
 "nbformat_minor": 5
}
